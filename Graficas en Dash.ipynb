{
 "cells": [
  {
   "cell_type": "code",
   "execution_count": 1,
   "id": "9facb704",
   "metadata": {},
   "outputs": [
    {
     "name": "stderr",
     "output_type": "stream",
     "text": [
      "C:\\Users\\Alejandro\\AppData\\Local\\Temp\\ipykernel_12924\\960488587.py:4: UserWarning: \n",
      "The dash_core_components package is deprecated. Please replace\n",
      "`import dash_core_components as dcc` with `from dash import dcc`\n",
      "  import dash_core_components as dcc\n",
      "C:\\Users\\Alejandro\\AppData\\Local\\Temp\\ipykernel_12924\\960488587.py:5: UserWarning: \n",
      "The dash_html_components package is deprecated. Please replace\n",
      "`import dash_html_components as html` with `from dash import html`\n",
      "  import dash_html_components as html\n"
     ]
    }
   ],
   "source": [
    "import numpy as np\n",
    "import matplotlib.pyplot as plt\n",
    "import pandas as pd\n",
    "import dash_core_components as dcc\n",
    "import dash_html_components as html\n",
    "from dash.dependencies import Input, Output\n",
    "# from jupyter_dash import JupyterDash\n",
    "import plotly.express as px\n",
    "import nest_asyncio\n",
    "from dash import Dash\n",
    "# Habilita que funcione correctamente en Jupyter\n",
    "nest_asyncio.apply()\n"
   ]
  },
  {
   "cell_type": "code",
   "execution_count": 2,
   "id": "2550af8f",
   "metadata": {},
   "outputs": [],
   "source": [
    "ventas1 = pd.read_csv(r'Ventas.csv', dtype = str, encoding= 'utf-8', sep = ',')\n",
    "vendedor1 = pd.read_csv(r'Vendedor.csv', dtype = str, encoding= 'utf-8', sep = ';')\n",
    "proveedor1 = pd.read_csv(r'Proveedores.csv', dtype = str, encoding= 'utf-8', sep = ';')\n",
    "producto1 = pd.read_csv(r'Estructura_Comercial.csv', dtype = str, encoding= 'utf-8', sep = ';')\n",
    "cliente1 = pd.read_csv(r'Clientes.csv', dtype = str, encoding= 'utf-8', sep = ';')"
   ]
  },
  {
   "cell_type": "code",
   "execution_count": 3,
   "id": "c2f9b003",
   "metadata": {},
   "outputs": [],
   "source": [
    "ventas = ventas1.copy()\n",
    "vendedor = vendedor1.copy()\n",
    "proveedor = proveedor1.copy()\n",
    "producto = producto1.copy()\n",
    "cliente = cliente1.copy()"
   ]
  },
  {
   "cell_type": "code",
   "execution_count": 4,
   "metadata": {},
   "outputs": [],
   "source": [
    "cliente = cliente[['nit','nombre']]\n",
    "producto = producto[['CODIGO', 'NOMBRE']]"
   ]
  },
  {
   "cell_type": "code",
   "execution_count": 5,
   "id": "34249a72",
   "metadata": {},
   "outputs": [],
   "source": [
    "ventas = ventas.merge(vendedor, how = 'left', left_on = 'Vendedor', right_on = 'codigo')\n",
    "ventas = ventas.merge(cliente, how = 'left', left_on = 'Nit', right_on = 'nit')\n",
    "ventas = ventas.merge(producto, how = 'left', left_on = 'Producto', right_on = 'CODIGO')"
   ]
  },
  {
   "cell_type": "code",
   "execution_count": 6,
   "id": "ce9b8d57",
   "metadata": {},
   "outputs": [],
   "source": [
    "ventas = ventas[['Fecha', 'nombre', 'NOMBRE', 'Nombre_Vendedor', 'TCantidad', 'TNeto', 'Mes', 'Anio']]\n",
    "ventas[\"TCantidad\"] = ventas[\"TCantidad\"].str.replace(\",\", \".\").str.strip()\n",
    "ventas[\"TNeto\"] = ventas[\"TNeto\"].str.replace(\",\", \".\").str.strip()\n",
    "ventas[\"TCantidad\"] = pd.to_numeric(ventas[\"TCantidad\"], errors=\"coerce\")\n",
    "ventas[\"TNeto\"] = pd.to_numeric(ventas[\"TNeto\"], errors=\"coerce\")\n",
    "ventas.columns = ['Fecha', 'Cliente', 'Producto', 'Vendedor', 'Cantidad', 'Valor', 'Mes', 'Anio']\n",
    "ventas2024 = ventas[ventas['Anio'] == '2024']"
   ]
  },
  {
   "cell_type": "code",
   "execution_count": 7,
   "id": "50b85c25",
   "metadata": {},
   "outputs": [],
   "source": [
    "ventas_producto24 = ventas2024.groupby(\"Producto\").agg(\n",
    "    Unidades=(\"Cantidad\", \"sum\"),\n",
    "    Pesos=(\"Valor\", \"sum\")\n",
    ").reset_index()\n",
    "\n",
    "ventas_cliente24 = ventas2024.groupby(\"Cliente\").agg(\n",
    "    Unidades=(\"Cantidad\", \"sum\"),\n",
    "    Pesos=(\"Valor\", \"sum\")\n",
    ").reset_index()\n",
    "\n",
    "ventas_x_mes = ventas2024.groupby(\"Mes\").agg(\n",
    "    Pesos=(\"Valor\", \"sum\")\n",
    ").reset_index()\n",
    "ventas_x_mes['Mes'] = ventas_x_mes['Mes'].astype(int)\n",
    "ventas_x_mes = ventas_x_mes.sort_values('Mes').reset_index(drop=True)\n",
    "ventas_x_mes['Mes'] = ventas_x_mes['Mes'].map({1: 'Enero', 2: 'Febrero', 3: 'Marzo', 4: 'Abril', 5: 'Mayo', 6: 'Junio',\n",
    "                                                7: 'Julio', 8: 'Agosto', 9: 'Septiembre', 10: 'Octubre', 11: 'Noviembre', 12: 'Diciembre'})\n",
    "\n",
    "ventas_vendedor24 = ventas2024.groupby(\"Vendedor\").agg(\n",
    "    Pesos=(\"Valor\", \"sum\")\n",
    ").reset_index()\n",
    "ventas_vendedor24 = ventas_vendedor24.sort_values('Pesos', ascending=False).reset_index(drop=True)\n",
    "ventas_vendedor24 = ventas_vendedor24.head(10)"
   ]
  },
  {
   "cell_type": "code",
   "execution_count": 8,
   "id": "26b454ad",
   "metadata": {},
   "outputs": [
    {
     "data": {
      "application/vnd.plotly.v1+json": {
       "config": {
        "plotlyServerURL": "https://plot.ly"
       },
       "data": [
        {
         "domain": {
          "x": [
           0,
           1
          ],
          "y": [
           0,
           1
          ]
         },
         "hole": 0.3,
         "hovertemplate": "Vendedor=%{label}<br>Pesos=%{value}<extra></extra>",
         "labels": [
          "EDUARDO MONSALVE",
          "LORENA RAMIREZ",
          "NICOLAS OSPINA",
          "KAROLINA MUÑOZ",
          "CAMILO NARANJO",
          "JOHN FREDY ARISTIZABAL",
          "CLAUDIA ARCILA",
          "ESTEFANIA GIRALDO",
          "IVAN SAENZ",
          "ISABELLA GARCIA"
         ],
         "legendgroup": "",
         "name": "",
         "showlegend": true,
         "textinfo": "percent+label",
         "textposition": "inside",
         "type": "pie",
         "values": {
          "bdata": "AAAAZtVFq0EAAAC8fNedQQAAAKTKBJNBAAAAECSukkEAAABw5vKMQQAAAEghMohBAAAAkCyHh0EAAABwN2CHQQAAAGDCZoRBAAAAYAVkg0E=",
          "dtype": "f8"
         }
        }
       ],
       "layout": {
        "font": {
         "color": "black",
         "family": "Lato"
        },
        "height": 500,
        "legend": {
         "tracegroupgap": 0
        },
        "margin": {
         "b": 40,
         "l": 40,
         "r": 40,
         "t": 50
        },
        "template": {
         "data": {
          "bar": [
           {
            "error_x": {
             "color": "#2a3f5f"
            },
            "error_y": {
             "color": "#2a3f5f"
            },
            "marker": {
             "line": {
              "color": "#E5ECF6",
              "width": 0.5
             },
             "pattern": {
              "fillmode": "overlay",
              "size": 10,
              "solidity": 0.2
             }
            },
            "type": "bar"
           }
          ],
          "barpolar": [
           {
            "marker": {
             "line": {
              "color": "#E5ECF6",
              "width": 0.5
             },
             "pattern": {
              "fillmode": "overlay",
              "size": 10,
              "solidity": 0.2
             }
            },
            "type": "barpolar"
           }
          ],
          "carpet": [
           {
            "aaxis": {
             "endlinecolor": "#2a3f5f",
             "gridcolor": "white",
             "linecolor": "white",
             "minorgridcolor": "white",
             "startlinecolor": "#2a3f5f"
            },
            "baxis": {
             "endlinecolor": "#2a3f5f",
             "gridcolor": "white",
             "linecolor": "white",
             "minorgridcolor": "white",
             "startlinecolor": "#2a3f5f"
            },
            "type": "carpet"
           }
          ],
          "choropleth": [
           {
            "colorbar": {
             "outlinewidth": 0,
             "ticks": ""
            },
            "type": "choropleth"
           }
          ],
          "contour": [
           {
            "colorbar": {
             "outlinewidth": 0,
             "ticks": ""
            },
            "colorscale": [
             [
              0,
              "#0d0887"
             ],
             [
              0.1111111111111111,
              "#46039f"
             ],
             [
              0.2222222222222222,
              "#7201a8"
             ],
             [
              0.3333333333333333,
              "#9c179e"
             ],
             [
              0.4444444444444444,
              "#bd3786"
             ],
             [
              0.5555555555555556,
              "#d8576b"
             ],
             [
              0.6666666666666666,
              "#ed7953"
             ],
             [
              0.7777777777777778,
              "#fb9f3a"
             ],
             [
              0.8888888888888888,
              "#fdca26"
             ],
             [
              1,
              "#f0f921"
             ]
            ],
            "type": "contour"
           }
          ],
          "contourcarpet": [
           {
            "colorbar": {
             "outlinewidth": 0,
             "ticks": ""
            },
            "type": "contourcarpet"
           }
          ],
          "heatmap": [
           {
            "colorbar": {
             "outlinewidth": 0,
             "ticks": ""
            },
            "colorscale": [
             [
              0,
              "#0d0887"
             ],
             [
              0.1111111111111111,
              "#46039f"
             ],
             [
              0.2222222222222222,
              "#7201a8"
             ],
             [
              0.3333333333333333,
              "#9c179e"
             ],
             [
              0.4444444444444444,
              "#bd3786"
             ],
             [
              0.5555555555555556,
              "#d8576b"
             ],
             [
              0.6666666666666666,
              "#ed7953"
             ],
             [
              0.7777777777777778,
              "#fb9f3a"
             ],
             [
              0.8888888888888888,
              "#fdca26"
             ],
             [
              1,
              "#f0f921"
             ]
            ],
            "type": "heatmap"
           }
          ],
          "histogram": [
           {
            "marker": {
             "pattern": {
              "fillmode": "overlay",
              "size": 10,
              "solidity": 0.2
             }
            },
            "type": "histogram"
           }
          ],
          "histogram2d": [
           {
            "colorbar": {
             "outlinewidth": 0,
             "ticks": ""
            },
            "colorscale": [
             [
              0,
              "#0d0887"
             ],
             [
              0.1111111111111111,
              "#46039f"
             ],
             [
              0.2222222222222222,
              "#7201a8"
             ],
             [
              0.3333333333333333,
              "#9c179e"
             ],
             [
              0.4444444444444444,
              "#bd3786"
             ],
             [
              0.5555555555555556,
              "#d8576b"
             ],
             [
              0.6666666666666666,
              "#ed7953"
             ],
             [
              0.7777777777777778,
              "#fb9f3a"
             ],
             [
              0.8888888888888888,
              "#fdca26"
             ],
             [
              1,
              "#f0f921"
             ]
            ],
            "type": "histogram2d"
           }
          ],
          "histogram2dcontour": [
           {
            "colorbar": {
             "outlinewidth": 0,
             "ticks": ""
            },
            "colorscale": [
             [
              0,
              "#0d0887"
             ],
             [
              0.1111111111111111,
              "#46039f"
             ],
             [
              0.2222222222222222,
              "#7201a8"
             ],
             [
              0.3333333333333333,
              "#9c179e"
             ],
             [
              0.4444444444444444,
              "#bd3786"
             ],
             [
              0.5555555555555556,
              "#d8576b"
             ],
             [
              0.6666666666666666,
              "#ed7953"
             ],
             [
              0.7777777777777778,
              "#fb9f3a"
             ],
             [
              0.8888888888888888,
              "#fdca26"
             ],
             [
              1,
              "#f0f921"
             ]
            ],
            "type": "histogram2dcontour"
           }
          ],
          "mesh3d": [
           {
            "colorbar": {
             "outlinewidth": 0,
             "ticks": ""
            },
            "type": "mesh3d"
           }
          ],
          "parcoords": [
           {
            "line": {
             "colorbar": {
              "outlinewidth": 0,
              "ticks": ""
             }
            },
            "type": "parcoords"
           }
          ],
          "pie": [
           {
            "automargin": true,
            "type": "pie"
           }
          ],
          "scatter": [
           {
            "fillpattern": {
             "fillmode": "overlay",
             "size": 10,
             "solidity": 0.2
            },
            "type": "scatter"
           }
          ],
          "scatter3d": [
           {
            "line": {
             "colorbar": {
              "outlinewidth": 0,
              "ticks": ""
             }
            },
            "marker": {
             "colorbar": {
              "outlinewidth": 0,
              "ticks": ""
             }
            },
            "type": "scatter3d"
           }
          ],
          "scattercarpet": [
           {
            "marker": {
             "colorbar": {
              "outlinewidth": 0,
              "ticks": ""
             }
            },
            "type": "scattercarpet"
           }
          ],
          "scattergeo": [
           {
            "marker": {
             "colorbar": {
              "outlinewidth": 0,
              "ticks": ""
             }
            },
            "type": "scattergeo"
           }
          ],
          "scattergl": [
           {
            "marker": {
             "colorbar": {
              "outlinewidth": 0,
              "ticks": ""
             }
            },
            "type": "scattergl"
           }
          ],
          "scattermap": [
           {
            "marker": {
             "colorbar": {
              "outlinewidth": 0,
              "ticks": ""
             }
            },
            "type": "scattermap"
           }
          ],
          "scattermapbox": [
           {
            "marker": {
             "colorbar": {
              "outlinewidth": 0,
              "ticks": ""
             }
            },
            "type": "scattermapbox"
           }
          ],
          "scatterpolar": [
           {
            "marker": {
             "colorbar": {
              "outlinewidth": 0,
              "ticks": ""
             }
            },
            "type": "scatterpolar"
           }
          ],
          "scatterpolargl": [
           {
            "marker": {
             "colorbar": {
              "outlinewidth": 0,
              "ticks": ""
             }
            },
            "type": "scatterpolargl"
           }
          ],
          "scatterternary": [
           {
            "marker": {
             "colorbar": {
              "outlinewidth": 0,
              "ticks": ""
             }
            },
            "type": "scatterternary"
           }
          ],
          "surface": [
           {
            "colorbar": {
             "outlinewidth": 0,
             "ticks": ""
            },
            "colorscale": [
             [
              0,
              "#0d0887"
             ],
             [
              0.1111111111111111,
              "#46039f"
             ],
             [
              0.2222222222222222,
              "#7201a8"
             ],
             [
              0.3333333333333333,
              "#9c179e"
             ],
             [
              0.4444444444444444,
              "#bd3786"
             ],
             [
              0.5555555555555556,
              "#d8576b"
             ],
             [
              0.6666666666666666,
              "#ed7953"
             ],
             [
              0.7777777777777778,
              "#fb9f3a"
             ],
             [
              0.8888888888888888,
              "#fdca26"
             ],
             [
              1,
              "#f0f921"
             ]
            ],
            "type": "surface"
           }
          ],
          "table": [
           {
            "cells": {
             "fill": {
              "color": "#EBF0F8"
             },
             "line": {
              "color": "white"
             }
            },
            "header": {
             "fill": {
              "color": "#C8D4E3"
             },
             "line": {
              "color": "white"
             }
            },
            "type": "table"
           }
          ]
         },
         "layout": {
          "annotationdefaults": {
           "arrowcolor": "#2a3f5f",
           "arrowhead": 0,
           "arrowwidth": 1
          },
          "autotypenumbers": "strict",
          "coloraxis": {
           "colorbar": {
            "outlinewidth": 0,
            "ticks": ""
           }
          },
          "colorscale": {
           "diverging": [
            [
             0,
             "#8e0152"
            ],
            [
             0.1,
             "#c51b7d"
            ],
            [
             0.2,
             "#de77ae"
            ],
            [
             0.3,
             "#f1b6da"
            ],
            [
             0.4,
             "#fde0ef"
            ],
            [
             0.5,
             "#f7f7f7"
            ],
            [
             0.6,
             "#e6f5d0"
            ],
            [
             0.7,
             "#b8e186"
            ],
            [
             0.8,
             "#7fbc41"
            ],
            [
             0.9,
             "#4d9221"
            ],
            [
             1,
             "#276419"
            ]
           ],
           "sequential": [
            [
             0,
             "#0d0887"
            ],
            [
             0.1111111111111111,
             "#46039f"
            ],
            [
             0.2222222222222222,
             "#7201a8"
            ],
            [
             0.3333333333333333,
             "#9c179e"
            ],
            [
             0.4444444444444444,
             "#bd3786"
            ],
            [
             0.5555555555555556,
             "#d8576b"
            ],
            [
             0.6666666666666666,
             "#ed7953"
            ],
            [
             0.7777777777777778,
             "#fb9f3a"
            ],
            [
             0.8888888888888888,
             "#fdca26"
            ],
            [
             1,
             "#f0f921"
            ]
           ],
           "sequentialminus": [
            [
             0,
             "#0d0887"
            ],
            [
             0.1111111111111111,
             "#46039f"
            ],
            [
             0.2222222222222222,
             "#7201a8"
            ],
            [
             0.3333333333333333,
             "#9c179e"
            ],
            [
             0.4444444444444444,
             "#bd3786"
            ],
            [
             0.5555555555555556,
             "#d8576b"
            ],
            [
             0.6666666666666666,
             "#ed7953"
            ],
            [
             0.7777777777777778,
             "#fb9f3a"
            ],
            [
             0.8888888888888888,
             "#fdca26"
            ],
            [
             1,
             "#f0f921"
            ]
           ]
          },
          "colorway": [
           "#636efa",
           "#EF553B",
           "#00cc96",
           "#ab63fa",
           "#FFA15A",
           "#19d3f3",
           "#FF6692",
           "#B6E880",
           "#FF97FF",
           "#FECB52"
          ],
          "font": {
           "color": "#2a3f5f"
          },
          "geo": {
           "bgcolor": "white",
           "lakecolor": "white",
           "landcolor": "#E5ECF6",
           "showlakes": true,
           "showland": true,
           "subunitcolor": "white"
          },
          "hoverlabel": {
           "align": "left"
          },
          "hovermode": "closest",
          "mapbox": {
           "style": "light"
          },
          "paper_bgcolor": "white",
          "plot_bgcolor": "#E5ECF6",
          "polar": {
           "angularaxis": {
            "gridcolor": "white",
            "linecolor": "white",
            "ticks": ""
           },
           "bgcolor": "#E5ECF6",
           "radialaxis": {
            "gridcolor": "white",
            "linecolor": "white",
            "ticks": ""
           }
          },
          "scene": {
           "xaxis": {
            "backgroundcolor": "#E5ECF6",
            "gridcolor": "white",
            "gridwidth": 2,
            "linecolor": "white",
            "showbackground": true,
            "ticks": "",
            "zerolinecolor": "white"
           },
           "yaxis": {
            "backgroundcolor": "#E5ECF6",
            "gridcolor": "white",
            "gridwidth": 2,
            "linecolor": "white",
            "showbackground": true,
            "ticks": "",
            "zerolinecolor": "white"
           },
           "zaxis": {
            "backgroundcolor": "#E5ECF6",
            "gridcolor": "white",
            "gridwidth": 2,
            "linecolor": "white",
            "showbackground": true,
            "ticks": "",
            "zerolinecolor": "white"
           }
          },
          "shapedefaults": {
           "line": {
            "color": "#2a3f5f"
           }
          },
          "ternary": {
           "aaxis": {
            "gridcolor": "white",
            "linecolor": "white",
            "ticks": ""
           },
           "baxis": {
            "gridcolor": "white",
            "linecolor": "white",
            "ticks": ""
           },
           "bgcolor": "#E5ECF6",
           "caxis": {
            "gridcolor": "white",
            "linecolor": "white",
            "ticks": ""
           }
          },
          "title": {
           "x": 0.05
          },
          "xaxis": {
           "automargin": true,
           "gridcolor": "white",
           "linecolor": "white",
           "ticks": "",
           "title": {
            "standoff": 15
           },
           "zerolinecolor": "white",
           "zerolinewidth": 2
          },
          "yaxis": {
           "automargin": true,
           "gridcolor": "white",
           "linecolor": "white",
           "ticks": "",
           "title": {
            "standoff": 15
           },
           "zerolinecolor": "white",
           "zerolinewidth": 2
          }
         }
        },
        "title": {
         "text": " "
        }
       }
      }
     },
     "metadata": {},
     "output_type": "display_data"
    }
   ],
   "source": [
    "fig_vendedores = px.pie(\n",
    "    ventas_vendedor24,\n",
    "    names=\"Vendedor\",\n",
    "    values=\"Pesos\",\n",
    "    title=\" \",\n",
    "    hole=0.3  \n",
    ")\n",
    "\n",
    "# Mostrar el porcentaje directamente\n",
    "fig_vendedores.update_traces(\n",
    "    textposition='inside',\n",
    "    textinfo='percent+label'\n",
    ")\n",
    "\n",
    "# Estilo opcional\n",
    "fig_vendedores.update_layout(\n",
    "    height=500,\n",
    "    margin=dict(l=40, r=40, t=50, b=40),\n",
    "    font_color=\"black\",\n",
    "    font_family=\"Lato\"\n",
    ")\n",
    "\n",
    "fig_vendedores.show()"
   ]
  },
  {
   "cell_type": "code",
   "execution_count": 9,
   "id": "47da490a",
   "metadata": {},
   "outputs": [],
   "source": [
    "# ----- APP DASH -----\n",
    "app = Dash(__name__)\n",
    "server = app.server\n",
    "\n",
    "app.title = \"Dashboard de Ventas\"\n",
    "\n",
    "# ----- LAYOUT COMPLETO -----\n",
    "app.layout = html.Div([\n",
    "    html.H1(\"Análisis de Ventas 2024\", style={\"textAlign\": \"center\"}),\n",
    "\n",
    "    html.Div([\n",
    "        html.Label(\"Agrupar por:\"),\n",
    "        dcc.RadioItems(\n",
    "            id=\"grupo-selector\",\n",
    "            options=[\n",
    "                {\"label\": \"Producto\", \"value\": \"producto\"},\n",
    "                {\"label\": \"Cliente\", \"value\": \"Cliente\"}\n",
    "            ],\n",
    "            value=\"producto\",\n",
    "            inline=True,\n",
    "        ),\n",
    "    ], style={\"margin\": \"20px\"}),\n",
    "\n",
    "    html.Div([\n",
    "        html.Label(\"Métrica:\"),\n",
    "        dcc.RadioItems(\n",
    "            id=\"metrica-selector\",\n",
    "            options=[\n",
    "                {\"label\": \"Unidades\", \"value\": \"Unidades\"},\n",
    "                {\"label\": \"Pesos\", \"value\": \"Pesos\"}\n",
    "            ],\n",
    "            value=\"Unidades\",\n",
    "            inline=True\n",
    "        ),\n",
    "    ], style={\"margin\": \"20px\"}),\n",
    "\n",
    "    html.Div([\n",
    "        html.Label(\"Ver desde el número:\"),\n",
    "        dcc.Slider(\n",
    "            id='inicio-slider',\n",
    "            min=0,\n",
    "            max=90,  # Esto puede cambiarse dinámicamente si quieres\n",
    "            step=1,\n",
    "            value=0,\n",
    "            marks={0: \"0\", 25: \"25\", 50: \"50\", 75: \"75\"},\n",
    "            tooltip={\"placement\": \"bottom\", \"always_visible\": True}\n",
    "        )\n",
    "    ], style={\"margin\": \"30px\"}),\n",
    "\n",
    "    dcc.Graph(id=\"grafico-ventas\"),\n",
    "    \n",
    "    html.H2(\"Ventas Mensuales Totales (Pesos)\", style={\"textAlign\": \"center\", \"marginTop\": \"60px\"}),\n",
    "\n",
    "    dcc.Graph(\n",
    "        id=\"grafico-lineas-mensual\",\n",
    "        figure=px.line(ventas_x_mes, x=\"Mes\", y=\"Pesos\", markers=True)\n",
    "        .update_layout(\n",
    "            xaxis_title=\"Mes\",\n",
    "            yaxis_title=\"Ventas en Pesos\",\n",
    "            height=400,\n",
    "            margin=dict(l=40, r=40, t=40, b=40)\n",
    "        )\n",
    "    ),\n",
    "\n",
    "    html.H2(\"Participación de Vendedores (2024)\", style={\"textAlign\": \"center\", \"marginTop\": \"60px\"}),\n",
    "\n",
    "    dcc.Graph(\n",
    "        id=\"grafico-vendedores-pie\",\n",
    "        figure=fig_vendedores\n",
    "    )\n",
    "\n",
    "], style={'height': '1000px', \n",
    "        \"color\": \"black\",             \n",
    "        \"fontFamily\": \"'Nunito', sans-serif\"})"
   ]
  },
  {
   "cell_type": "code",
   "execution_count": 10,
   "id": "9bfe318c",
   "metadata": {},
   "outputs": [],
   "source": [
    "@app.callback(\n",
    "    Output(\"grafico-ventas\", \"figure\"),\n",
    "    Input(\"grupo-selector\", \"value\"),\n",
    "    Input(\"metrica-selector\", \"value\"),\n",
    "    Input(\"inicio-slider\", \"value\")\n",
    ")\n",
    "def actualizar_grafico(grupo, metrica, inicio):\n",
    "    if grupo == \"producto\":\n",
    "        df = ventas_producto24.sort_values(by=metrica, ascending=False)\n",
    "        eje_x = \"Producto\"\n",
    "    else:\n",
    "        df = ventas_cliente24.sort_values(by=metrica, ascending=False)\n",
    "        eje_x = \"Cliente\"\n",
    "\n",
    "    # Ventana de 10 elementos\n",
    "    fin = inicio + 10\n",
    "    df_vista = df.iloc[inicio:fin]\n",
    "\n",
    "    fig = px.bar(df_vista, x=eje_x, y=metrica, title=f\"Ventas por {grupo.capitalize()} ({metrica})\")\n",
    "    fig.update_layout(\n",
    "        xaxis_title=eje_x,\n",
    "        yaxis_title=metrica,\n",
    "        xaxis_tickangle=-45,\n",
    "        height=500,\n",
    "        margin=dict(l=20, r=20, t=50, b=250),\n",
    "    )\n",
    "    fig.update_xaxes(tickfont=dict(size=10), automargin=True)\n",
    "\n",
    "    return fig\n"
   ]
  },
  {
   "cell_type": "code",
   "execution_count": 11,
   "id": "91f7c7fe",
   "metadata": {},
   "outputs": [
    {
     "data": {
      "text/html": [
       "\n",
       "        <iframe\n",
       "            width=\"100%\"\n",
       "            height=\"650\"\n",
       "            src=\"http://127.0.0.1:8050/\"\n",
       "            frameborder=\"0\"\n",
       "            allowfullscreen\n",
       "            \n",
       "        ></iframe>\n",
       "        "
      ],
      "text/plain": [
       "<IPython.lib.display.IFrame at 0x1d0867916d0>"
      ]
     },
     "metadata": {},
     "output_type": "display_data"
    }
   ],
   "source": [
    "app.run(mode='external', debug=True, port=8050)"
   ]
  }
 ],
 "metadata": {
  "kernelspec": {
   "display_name": "ProyectoVisualizacion",
   "language": "python",
   "name": "python3"
  },
  "language_info": {
   "codemirror_mode": {
    "name": "ipython",
    "version": 3
   },
   "file_extension": ".py",
   "mimetype": "text/x-python",
   "name": "python",
   "nbconvert_exporter": "python",
   "pygments_lexer": "ipython3",
   "version": "3.9.21"
  }
 },
 "nbformat": 4,
 "nbformat_minor": 5
}
